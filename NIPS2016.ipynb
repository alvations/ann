{
 "cells": [
  {
   "cell_type": "code",
   "execution_count": 1,
   "metadata": {
    "collapsed": true
   },
   "outputs": [],
   "source": [
    "import pickle\n",
    "from itertools import chain\n",
    "from collections import namedtuple\n",
    "from datetime import datetime\n",
    "\n",
    "import pandas as pd"
   ]
  },
  {
   "cell_type": "code",
   "execution_count": 2,
   "metadata": {
    "collapsed": true
   },
   "outputs": [],
   "source": [
    "Event = namedtuple('Event', 'id, card, abstract, authors, title, datetime, etype')"
   ]
  },
  {
   "cell_type": "code",
   "execution_count": 3,
   "metadata": {
    "collapsed": false
   },
   "outputs": [],
   "source": [
    "with open('nips2016-presenting.pk', 'rb') as fin:\n",
    "    events = pickle.load(fin)"
   ]
  },
  {
   "cell_type": "code",
   "execution_count": 4,
   "metadata": {
    "collapsed": false
   },
   "outputs": [],
   "source": [
    "events_frame = pd.DataFrame(list(events.values()), columns=Event._fields)"
   ]
  },
  {
   "cell_type": "code",
   "execution_count": 5,
   "metadata": {
    "collapsed": false
   },
   "outputs": [
    {
     "data": {
      "text/html": [
       "<div>\n",
       "<table border=\"1\" class=\"dataframe\">\n",
       "  <thead>\n",
       "    <tr style=\"text-align: right;\">\n",
       "      <th></th>\n",
       "      <th>id</th>\n",
       "      <th>card</th>\n",
       "      <th>abstract</th>\n",
       "      <th>authors</th>\n",
       "      <th>title</th>\n",
       "      <th>datetime</th>\n",
       "      <th>etype</th>\n",
       "    </tr>\n",
       "  </thead>\n",
       "  <tbody>\n",
       "    <tr>\n",
       "      <th>0</th>\n",
       "      <td>6190</td>\n",
       "      <td>&lt;div class=\"maincard narrower InvitedTalkBreim...</td>\n",
       "      <td>Modern data sets usually present multiple leve...</td>\n",
       "      <td>Susan Holmes</td>\n",
       "      <td>Reproducible Research: the Case of the Human M...</td>\n",
       "      <td>Thu Dec 8th 09:50  -- 10:40 AM @ Area 1 + 2</td>\n",
       "      <td>Invited Talk (Breiman Lecture)</td>\n",
       "    </tr>\n",
       "    <tr>\n",
       "      <th>1</th>\n",
       "      <td>6192</td>\n",
       "      <td>&lt;div class=\"maincard narrower InvitedTalk\" id=...</td>\n",
       "      <td>Robust, efficient, and low-cost networks are a...</td>\n",
       "      <td>Saket Navlakha</td>\n",
       "      <td>Engineering Principles From Stable and Develop...</td>\n",
       "      <td>Tue Dec 6th 03:00  -- 03:50 PM @ Area 1 + 2</td>\n",
       "      <td>Invited Talk</td>\n",
       "    </tr>\n",
       "    <tr>\n",
       "      <th>2</th>\n",
       "      <td>6193</td>\n",
       "      <td>&lt;div class=\"maincard narrower InvitedTalk\" id=...</td>\n",
       "      <td>The biosphere is a stupendously complex and po...</td>\n",
       "      <td>Drew Purves</td>\n",
       "      <td>Intelligent Biosphere</td>\n",
       "      <td>Tue Dec 6th 09:00  -- 09:50 AM @ Area 1+2</td>\n",
       "      <td>Invited Talk</td>\n",
       "    </tr>\n",
       "    <tr>\n",
       "      <th>3</th>\n",
       "      <td>6194</td>\n",
       "      <td>&lt;div class=\"maincard narrower InvitedTalk\" id=...</td>\n",
       "      <td>A new generation of high-performance robots is...</td>\n",
       "      <td>Marc Raibert</td>\n",
       "      <td>Dynamic Legged Robots</td>\n",
       "      <td>Wed Dec 7th 03:00  -- 03:50 PM @ Area 1 + 2</td>\n",
       "      <td>Invited Talk</td>\n",
       "    </tr>\n",
       "    <tr>\n",
       "      <th>4</th>\n",
       "      <td>6195</td>\n",
       "      <td>&lt;div class=\"maincard narrower InvitedTalk\" id=...</td>\n",
       "      <td>Particle physics aims to answer profound quest...</td>\n",
       "      <td>Kyle Cranmer</td>\n",
       "      <td>Machine Learning and Likelihood-Free Inference...</td>\n",
       "      <td>Wed Dec 7th 09:00  -- 09:50 AM @ Area 1 + 2</td>\n",
       "      <td>Invited Talk</td>\n",
       "    </tr>\n",
       "  </tbody>\n",
       "</table>\n",
       "</div>"
      ],
      "text/plain": [
       "     id                                               card  \\\n",
       "0  6190  <div class=\"maincard narrower InvitedTalkBreim...   \n",
       "1  6192  <div class=\"maincard narrower InvitedTalk\" id=...   \n",
       "2  6193  <div class=\"maincard narrower InvitedTalk\" id=...   \n",
       "3  6194  <div class=\"maincard narrower InvitedTalk\" id=...   \n",
       "4  6195  <div class=\"maincard narrower InvitedTalk\" id=...   \n",
       "\n",
       "                                            abstract         authors  \\\n",
       "0  Modern data sets usually present multiple leve...    Susan Holmes   \n",
       "1  Robust, efficient, and low-cost networks are a...  Saket Navlakha   \n",
       "2  The biosphere is a stupendously complex and po...     Drew Purves   \n",
       "3  A new generation of high-performance robots is...    Marc Raibert   \n",
       "4  Particle physics aims to answer profound quest...    Kyle Cranmer   \n",
       "\n",
       "                                               title  \\\n",
       "0  Reproducible Research: the Case of the Human M...   \n",
       "1  Engineering Principles From Stable and Develop...   \n",
       "2                              Intelligent Biosphere   \n",
       "3                              Dynamic Legged Robots   \n",
       "4  Machine Learning and Likelihood-Free Inference...   \n",
       "\n",
       "                                      datetime                           etype  \n",
       "0  Thu Dec 8th 09:50  -- 10:40 AM @ Area 1 + 2  Invited Talk (Breiman Lecture)  \n",
       "1  Tue Dec 6th 03:00  -- 03:50 PM @ Area 1 + 2                    Invited Talk  \n",
       "2    Tue Dec 6th 09:00  -- 09:50 AM @ Area 1+2                    Invited Talk  \n",
       "3  Wed Dec 7th 03:00  -- 03:50 PM @ Area 1 + 2                    Invited Talk  \n",
       "4  Wed Dec 7th 09:00  -- 09:50 AM @ Area 1 + 2                    Invited Talk  "
      ]
     },
     "execution_count": 5,
     "metadata": {},
     "output_type": "execute_result"
    }
   ],
   "source": [
    "events_frame.head()"
   ]
  },
  {
   "cell_type": "markdown",
   "metadata": {},
   "source": [
    "## Let's stalk authors!!"
   ]
  },
  {
   "cell_type": "code",
   "execution_count": 6,
   "metadata": {
    "collapsed": false
   },
   "outputs": [],
   "source": [
    "author_list = list(chain(*[map(lambda n: n.strip(), a.split('·')) \n",
    "                           for a in events_frame['authors']]))"
   ]
  },
  {
   "cell_type": "code",
   "execution_count": 7,
   "metadata": {
    "collapsed": false
   },
   "outputs": [
    {
     "data": {
      "text/plain": [
       "(2485, 1839)"
      ]
     },
     "execution_count": 7,
     "metadata": {},
     "output_type": "execute_result"
    }
   ],
   "source": [
    "# Ooooo... so many papers with repeated authors...\n",
    "# Or authors with repeated names...\n",
    "len(author_list), len(set(author_list)) "
   ]
  },
  {
   "cell_type": "markdown",
   "metadata": {},
   "source": [
    "## Only 6 Machine Translation papers?!"
   ]
  },
  {
   "cell_type": "code",
   "execution_count": 8,
   "metadata": {
    "collapsed": false
   },
   "outputs": [
    {
     "data": {
      "text/plain": [
       "6"
      ]
     },
     "execution_count": 8,
     "metadata": {},
     "output_type": "execute_result"
    }
   ],
   "source": [
    "len([i for i in events_frame['abstract'] if 'machine translation' in i.strip()])"
   ]
  },
  {
   "cell_type": "code",
   "execution_count": 11,
   "metadata": {
    "collapsed": false
   },
   "outputs": [],
   "source": [
    "date_object = datetime.strptime('Jun 1 2005  1:33PM', '%b %d %Y %I:%M%p')\n",
    "\n",
    "s = 'Tue Dec 6th 03:00 -- 03:50 PM @ Area 1 + 2'\n",
    "time, space = s.split(' @ ')"
   ]
  },
  {
   "cell_type": "code",
   "execution_count": 15,
   "metadata": {
    "collapsed": false
   },
   "outputs": [],
   "source": []
  },
  {
   "cell_type": "code",
   "execution_count": 16,
   "metadata": {
    "collapsed": false
   },
   "outputs": [
    {
     "data": {
      "text/plain": [
       "'Tue'"
      ]
     },
     "execution_count": 16,
     "metadata": {},
     "output_type": "execute_result"
    }
   ],
   "source": []
  },
  {
   "cell_type": "code",
   "execution_count": null,
   "metadata": {
    "collapsed": true
   },
   "outputs": [],
   "source": []
  }
 ],
 "metadata": {
  "kernelspec": {
   "display_name": "Python 3",
   "language": "python",
   "name": "python3"
  },
  "language_info": {
   "codemirror_mode": {
    "name": "ipython",
    "version": 3
   },
   "file_extension": ".py",
   "mimetype": "text/x-python",
   "name": "python",
   "nbconvert_exporter": "python",
   "pygments_lexer": "ipython3",
   "version": "3.5.2"
  }
 },
 "nbformat": 4,
 "nbformat_minor": 1
}
