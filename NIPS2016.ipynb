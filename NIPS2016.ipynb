{
 "cells": [
  {
   "cell_type": "code",
   "execution_count": 14,
   "metadata": {
    "collapsed": true
   },
   "outputs": [],
   "source": [
    "import re\n",
    "import pickle\n",
    "from itertools import chain\n",
    "from collections import namedtuple\n",
    "from datetime import datetime\n",
    "\n",
    "import pandas as pd"
   ]
  },
  {
   "cell_type": "code",
   "execution_count": 2,
   "metadata": {
    "collapsed": true
   },
   "outputs": [],
   "source": [
    "Event = namedtuple('Event', 'id, card, abstract, authors, title, datetime, etype')"
   ]
  },
  {
   "cell_type": "code",
   "execution_count": 3,
   "metadata": {
    "collapsed": false
   },
   "outputs": [],
   "source": [
    "with open('nips2016-presenting.pk', 'rb') as fin:\n",
    "    events = pickle.load(fin)"
   ]
  },
  {
   "cell_type": "code",
   "execution_count": 4,
   "metadata": {
    "collapsed": false
   },
   "outputs": [],
   "source": [
    "events_frame = pd.DataFrame(list(events.values()), columns=Event._fields)"
   ]
  },
  {
   "cell_type": "code",
   "execution_count": 5,
   "metadata": {
    "collapsed": false
   },
   "outputs": [
    {
     "data": {
      "text/html": [
       "<div>\n",
       "<table border=\"1\" class=\"dataframe\">\n",
       "  <thead>\n",
       "    <tr style=\"text-align: right;\">\n",
       "      <th></th>\n",
       "      <th>id</th>\n",
       "      <th>card</th>\n",
       "      <th>abstract</th>\n",
       "      <th>authors</th>\n",
       "      <th>title</th>\n",
       "      <th>datetime</th>\n",
       "      <th>etype</th>\n",
       "    </tr>\n",
       "  </thead>\n",
       "  <tbody>\n",
       "    <tr>\n",
       "      <th>0</th>\n",
       "      <td>6190</td>\n",
       "      <td>&lt;div class=\"maincard narrower InvitedTalkBreim...</td>\n",
       "      <td>Modern data sets usually present multiple leve...</td>\n",
       "      <td>Susan Holmes</td>\n",
       "      <td>Reproducible Research: the Case of the Human M...</td>\n",
       "      <td>Thu Dec 8th 09:50  -- 10:40 AM @ Area 1 + 2</td>\n",
       "      <td>Invited Talk (Breiman Lecture)</td>\n",
       "    </tr>\n",
       "    <tr>\n",
       "      <th>1</th>\n",
       "      <td>6192</td>\n",
       "      <td>&lt;div class=\"maincard narrower InvitedTalk\" id=...</td>\n",
       "      <td>Robust, efficient, and low-cost networks are a...</td>\n",
       "      <td>Saket Navlakha</td>\n",
       "      <td>Engineering Principles From Stable and Develop...</td>\n",
       "      <td>Tue Dec 6th 03:00  -- 03:50 PM @ Area 1 + 2</td>\n",
       "      <td>Invited Talk</td>\n",
       "    </tr>\n",
       "    <tr>\n",
       "      <th>2</th>\n",
       "      <td>6193</td>\n",
       "      <td>&lt;div class=\"maincard narrower InvitedTalk\" id=...</td>\n",
       "      <td>The biosphere is a stupendously complex and po...</td>\n",
       "      <td>Drew Purves</td>\n",
       "      <td>Intelligent Biosphere</td>\n",
       "      <td>Tue Dec 6th 09:00  -- 09:50 AM @ Area 1+2</td>\n",
       "      <td>Invited Talk</td>\n",
       "    </tr>\n",
       "    <tr>\n",
       "      <th>3</th>\n",
       "      <td>6194</td>\n",
       "      <td>&lt;div class=\"maincard narrower InvitedTalk\" id=...</td>\n",
       "      <td>A new generation of high-performance robots is...</td>\n",
       "      <td>Marc Raibert</td>\n",
       "      <td>Dynamic Legged Robots</td>\n",
       "      <td>Wed Dec 7th 03:00  -- 03:50 PM @ Area 1 + 2</td>\n",
       "      <td>Invited Talk</td>\n",
       "    </tr>\n",
       "    <tr>\n",
       "      <th>4</th>\n",
       "      <td>6195</td>\n",
       "      <td>&lt;div class=\"maincard narrower InvitedTalk\" id=...</td>\n",
       "      <td>Particle physics aims to answer profound quest...</td>\n",
       "      <td>Kyle Cranmer</td>\n",
       "      <td>Machine Learning and Likelihood-Free Inference...</td>\n",
       "      <td>Wed Dec 7th 09:00  -- 09:50 AM @ Area 1 + 2</td>\n",
       "      <td>Invited Talk</td>\n",
       "    </tr>\n",
       "  </tbody>\n",
       "</table>\n",
       "</div>"
      ],
      "text/plain": [
       "     id                                               card  \\\n",
       "0  6190  <div class=\"maincard narrower InvitedTalkBreim...   \n",
       "1  6192  <div class=\"maincard narrower InvitedTalk\" id=...   \n",
       "2  6193  <div class=\"maincard narrower InvitedTalk\" id=...   \n",
       "3  6194  <div class=\"maincard narrower InvitedTalk\" id=...   \n",
       "4  6195  <div class=\"maincard narrower InvitedTalk\" id=...   \n",
       "\n",
       "                                            abstract         authors  \\\n",
       "0  Modern data sets usually present multiple leve...    Susan Holmes   \n",
       "1  Robust, efficient, and low-cost networks are a...  Saket Navlakha   \n",
       "2  The biosphere is a stupendously complex and po...     Drew Purves   \n",
       "3  A new generation of high-performance robots is...    Marc Raibert   \n",
       "4  Particle physics aims to answer profound quest...    Kyle Cranmer   \n",
       "\n",
       "                                               title  \\\n",
       "0  Reproducible Research: the Case of the Human M...   \n",
       "1  Engineering Principles From Stable and Develop...   \n",
       "2                              Intelligent Biosphere   \n",
       "3                              Dynamic Legged Robots   \n",
       "4  Machine Learning and Likelihood-Free Inference...   \n",
       "\n",
       "                                      datetime                           etype  \n",
       "0  Thu Dec 8th 09:50  -- 10:40 AM @ Area 1 + 2  Invited Talk (Breiman Lecture)  \n",
       "1  Tue Dec 6th 03:00  -- 03:50 PM @ Area 1 + 2                    Invited Talk  \n",
       "2    Tue Dec 6th 09:00  -- 09:50 AM @ Area 1+2                    Invited Talk  \n",
       "3  Wed Dec 7th 03:00  -- 03:50 PM @ Area 1 + 2                    Invited Talk  \n",
       "4  Wed Dec 7th 09:00  -- 09:50 AM @ Area 1 + 2                    Invited Talk  "
      ]
     },
     "execution_count": 5,
     "metadata": {},
     "output_type": "execute_result"
    }
   ],
   "source": [
    "events_frame.head()"
   ]
  },
  {
   "cell_type": "markdown",
   "metadata": {},
   "source": [
    "## Let's stalk authors!!"
   ]
  },
  {
   "cell_type": "code",
   "execution_count": 6,
   "metadata": {
    "collapsed": false
   },
   "outputs": [],
   "source": [
    "author_list = list(chain(*[map(lambda n: n.strip(), a.split('·')) \n",
    "                           for a in events_frame['authors']]))"
   ]
  },
  {
   "cell_type": "code",
   "execution_count": 7,
   "metadata": {
    "collapsed": false
   },
   "outputs": [
    {
     "data": {
      "text/plain": [
       "(2485, 1839)"
      ]
     },
     "execution_count": 7,
     "metadata": {},
     "output_type": "execute_result"
    }
   ],
   "source": [
    "# Ooooo... so many papers with repeated authors...\n",
    "# Or authors with repeated names...\n",
    "len(author_list), len(set(author_list)) "
   ]
  },
  {
   "cell_type": "markdown",
   "metadata": {},
   "source": [
    "## Only 6 Machine Translation papers?!"
   ]
  },
  {
   "cell_type": "code",
   "execution_count": 8,
   "metadata": {
    "collapsed": false
   },
   "outputs": [
    {
     "data": {
      "text/plain": [
       "6"
      ]
     },
     "execution_count": 8,
     "metadata": {},
     "output_type": "execute_result"
    }
   ],
   "source": [
    "len([i for i in events_frame['abstract'] if 'machine translation' in i.strip()])"
   ]
  },
  {
   "cell_type": "markdown",
   "metadata": {},
   "source": [
    "## Date munging"
   ]
  },
  {
   "cell_type": "code",
   "execution_count": 40,
   "metadata": {
    "collapsed": false
   },
   "outputs": [],
   "source": [
    "def munge_time(s):\n",
    "    time, space = s.split(' @ ')\n",
    "    try: # Don't cross AM -- PM\n",
    "        day, month, date, start, _, end, ampm = time.split()\n",
    "    except ValueError: # When crossing AM -- PM\n",
    "        day, month, date, start, ampm, _, end, ampm = time.split()\n",
    "    date = re.findall(r'\\d+',date)[0]\n",
    "    start_time = ' '.join([month, date, '2016', start+ampm])\n",
    "    end_time = ' '.join([month, date, '2016', end+ampm])\n",
    "    return day, start_time, end_time"
   ]
  },
  {
   "cell_type": "code",
   "execution_count": 28,
   "metadata": {
    "collapsed": false
   },
   "outputs": [],
   "source": [
    "s = 'Tue Dec 6th 03:00 -- 03:50 PM @ Area 1 + 2'\n",
    "day, start, end = munge_time(s)"
   ]
  },
  {
   "cell_type": "code",
   "execution_count": 30,
   "metadata": {
    "collapsed": false
   },
   "outputs": [
    {
     "data": {
      "text/plain": [
       "datetime.datetime(2016, 12, 6, 15, 0)"
      ]
     },
     "execution_count": 30,
     "metadata": {},
     "output_type": "execute_result"
    }
   ],
   "source": [
    "datetime.strptime(start, '%b %d %Y %I:%M%p')"
   ]
  },
  {
   "cell_type": "code",
   "execution_count": 31,
   "metadata": {
    "collapsed": false
   },
   "outputs": [
    {
     "name": "stdout",
     "output_type": "stream",
     "text": [
      "2016-12-06 15:00:00\n"
     ]
    }
   ],
   "source": [
    "print (datetime.strptime(start, '%b %d %Y %I:%M%p'))"
   ]
  },
  {
   "cell_type": "code",
   "execution_count": 39,
   "metadata": {
    "collapsed": false
   },
   "outputs": [
    {
     "name": "stdout",
     "output_type": "stream",
     "text": [
      "Thu Dec 8th 09:50  -- 10:40 AM @ Area 1 + 2\n",
      "Tue Dec 6th 03:00  -- 03:50 PM @ Area 1 + 2\n",
      "Tue Dec 6th 09:00  -- 09:50 AM @ Area 1+2\n",
      "Wed Dec 7th 03:00  -- 03:50 PM @ Area 1 + 2\n",
      "Wed Dec 7th 09:00  -- 09:50 AM @ Area 1 + 2\n",
      "Thu Dec 8th 09:00  -- 09:50 AM @ Area 1 + 2\n",
      "Mon Dec 5th 05:30  -- 06:20 PM @ area 1 + 2\n",
      "Mon Dec 5th 08:30  -- 10:30 AM @ Rooms 211 + 212\n",
      "Mon Dec 5th 08:30  -- 10:30 AM @ Area 1 + 2\n",
      "Mon Dec 5th 02:30  -- 04:30 PM @ Rooms 211 + 212\n",
      "Mon Dec 5th 11:00 AM -- 01:00 PM @ Area 3\n"
     ]
    },
    {
     "ename": "ValueError",
     "evalue": "too many values to unpack (expected 7)",
     "output_type": "error",
     "traceback": [
      "\u001b[0;31m---------------------------------------------------------------------------\u001b[0m",
      "\u001b[0;31mValueError\u001b[0m                                Traceback (most recent call last)",
      "\u001b[0;32m<ipython-input-39-0ebf9a7bcb9d>\u001b[0m in \u001b[0;36m<module>\u001b[0;34m()\u001b[0m\n\u001b[1;32m      1\u001b[0m \u001b[0;32mfor\u001b[0m \u001b[0mi\u001b[0m\u001b[0;34m,\u001b[0m \u001b[0mrow\u001b[0m \u001b[0;32min\u001b[0m \u001b[0mevents_frame\u001b[0m\u001b[0;34m.\u001b[0m\u001b[0miterrows\u001b[0m\u001b[0;34m(\u001b[0m\u001b[0;34m)\u001b[0m\u001b[0;34m:\u001b[0m\u001b[0;34m\u001b[0m\u001b[0m\n\u001b[1;32m      2\u001b[0m     \u001b[0mprint\u001b[0m \u001b[0;34m(\u001b[0m\u001b[0mrow\u001b[0m\u001b[0;34m.\u001b[0m\u001b[0mdatetime\u001b[0m\u001b[0;34m)\u001b[0m\u001b[0;34m\u001b[0m\u001b[0m\n\u001b[0;32m----> 3\u001b[0;31m     \u001b[0mday\u001b[0m\u001b[0;34m,\u001b[0m \u001b[0mstart\u001b[0m\u001b[0;34m,\u001b[0m \u001b[0mend\u001b[0m \u001b[0;34m=\u001b[0m \u001b[0mmunge_time\u001b[0m\u001b[0;34m(\u001b[0m\u001b[0mrow\u001b[0m\u001b[0;34m.\u001b[0m\u001b[0mdatetime\u001b[0m\u001b[0;34m)\u001b[0m\u001b[0;34m\u001b[0m\u001b[0m\n\u001b[0m\u001b[1;32m      4\u001b[0m     \u001b[0mevents_frame\u001b[0m\u001b[0;34m.\u001b[0m\u001b[0mset_value\u001b[0m\u001b[0;34m(\u001b[0m\u001b[0mi\u001b[0m\u001b[0;34m,\u001b[0m\u001b[0;34m'day'\u001b[0m\u001b[0;34m,\u001b[0m\u001b[0mday\u001b[0m\u001b[0;34m)\u001b[0m\u001b[0;34m\u001b[0m\u001b[0m\n\u001b[1;32m      5\u001b[0m     \u001b[0mevents_frame\u001b[0m\u001b[0;34m.\u001b[0m\u001b[0mset_value\u001b[0m\u001b[0;34m(\u001b[0m\u001b[0mi\u001b[0m\u001b[0;34m,\u001b[0m\u001b[0;34m'start_time'\u001b[0m\u001b[0;34m,\u001b[0m\u001b[0mstart\u001b[0m\u001b[0;34m)\u001b[0m\u001b[0;34m\u001b[0m\u001b[0m\n",
      "\u001b[0;32m<ipython-input-25-08a2a13ccc7e>\u001b[0m in \u001b[0;36mmunge_time\u001b[0;34m(s)\u001b[0m\n\u001b[1;32m      1\u001b[0m \u001b[0;32mdef\u001b[0m \u001b[0mmunge_time\u001b[0m\u001b[0;34m(\u001b[0m\u001b[0ms\u001b[0m\u001b[0;34m)\u001b[0m\u001b[0;34m:\u001b[0m\u001b[0;34m\u001b[0m\u001b[0m\n\u001b[1;32m      2\u001b[0m     \u001b[0mtime\u001b[0m\u001b[0;34m,\u001b[0m \u001b[0mspace\u001b[0m \u001b[0;34m=\u001b[0m \u001b[0ms\u001b[0m\u001b[0;34m.\u001b[0m\u001b[0msplit\u001b[0m\u001b[0;34m(\u001b[0m\u001b[0;34m' @ '\u001b[0m\u001b[0;34m)\u001b[0m\u001b[0;34m\u001b[0m\u001b[0m\n\u001b[0;32m----> 3\u001b[0;31m     \u001b[0mday\u001b[0m\u001b[0;34m,\u001b[0m \u001b[0mmonth\u001b[0m\u001b[0;34m,\u001b[0m \u001b[0mdate\u001b[0m\u001b[0;34m,\u001b[0m \u001b[0mstart\u001b[0m\u001b[0;34m,\u001b[0m \u001b[0m_\u001b[0m\u001b[0;34m,\u001b[0m \u001b[0mend\u001b[0m\u001b[0;34m,\u001b[0m \u001b[0mampm\u001b[0m \u001b[0;34m=\u001b[0m \u001b[0mtime\u001b[0m\u001b[0;34m.\u001b[0m\u001b[0msplit\u001b[0m\u001b[0;34m(\u001b[0m\u001b[0;34m)\u001b[0m\u001b[0;34m\u001b[0m\u001b[0m\n\u001b[0m\u001b[1;32m      4\u001b[0m     \u001b[0mdate\u001b[0m \u001b[0;34m=\u001b[0m \u001b[0mre\u001b[0m\u001b[0;34m.\u001b[0m\u001b[0mfindall\u001b[0m\u001b[0;34m(\u001b[0m\u001b[0;34mr'\\d+'\u001b[0m\u001b[0;34m,\u001b[0m\u001b[0mdate\u001b[0m\u001b[0;34m)\u001b[0m\u001b[0;34m[\u001b[0m\u001b[0;36m0\u001b[0m\u001b[0;34m]\u001b[0m\u001b[0;34m\u001b[0m\u001b[0m\n\u001b[1;32m      5\u001b[0m     \u001b[0mstart_time\u001b[0m \u001b[0;34m=\u001b[0m \u001b[0;34m' '\u001b[0m\u001b[0;34m.\u001b[0m\u001b[0mjoin\u001b[0m\u001b[0;34m(\u001b[0m\u001b[0;34m[\u001b[0m\u001b[0mmonth\u001b[0m\u001b[0;34m,\u001b[0m \u001b[0mdate\u001b[0m\u001b[0;34m,\u001b[0m \u001b[0;34m'2016'\u001b[0m\u001b[0;34m,\u001b[0m \u001b[0mstart\u001b[0m\u001b[0;34m+\u001b[0m\u001b[0mampm\u001b[0m\u001b[0;34m]\u001b[0m\u001b[0;34m)\u001b[0m\u001b[0;34m\u001b[0m\u001b[0m\n",
      "\u001b[0;31mValueError\u001b[0m: too many values to unpack (expected 7)"
     ]
    }
   ],
   "source": [
    "for i, row in events_frame.iterrows():\n",
    "    print (row.datetime)\n",
    "    day, start, end = munge_time(row.datetime)\n",
    "    events_frame.set_value(i,'day',day)\n",
    "    events_frame.set_value(i,'start_time',start)\n",
    "    events_frame.set_value(i,'end_time',end)"
   ]
  },
  {
   "cell_type": "code",
   "execution_count": null,
   "metadata": {
    "collapsed": true
   },
   "outputs": [],
   "source": []
  }
 ],
 "metadata": {
  "kernelspec": {
   "display_name": "Python 3",
   "language": "python",
   "name": "python3"
  },
  "language_info": {
   "codemirror_mode": {
    "name": "ipython",
    "version": 3
   },
   "file_extension": ".py",
   "mimetype": "text/x-python",
   "name": "python",
   "nbconvert_exporter": "python",
   "pygments_lexer": "ipython3",
   "version": "3.5.2"
  }
 },
 "nbformat": 4,
 "nbformat_minor": 1
}
